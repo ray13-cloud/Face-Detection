{
 "cells": [
  {
   "cell_type": "code",
   "execution_count": 36,
   "metadata": {},
   "outputs": [],
   "source": [
    "import cv2"
   ]
  },
  {
   "cell_type": "code",
   "execution_count": 37,
   "metadata": {},
   "outputs": [],
   "source": [
    "faceCascade = cv2.CascadeClassifier(\"haarcascade_frontalface_default.xml\")\n",
    "noseCascade = cv2.CascadeClassifier(\"Nariz.xml\")"
   ]
  },
  {
   "cell_type": "code",
   "execution_count": 35,
   "metadata": {},
   "outputs": [],
   "source": [
    "video_capture = cv2.VideoCapture(0)\n",
    "mask_on = False\n",
    "\n",
    "while True: \n",
    "    \n",
    "    #ambil frame by frame\n",
    "    ret, frame = video_capture.read()\n",
    "    \n",
    "    grey = cv2.cvtColor(frame, cv2.COLOR_BGR2GRAY)\n",
    "    \n",
    "    wajah = faceCascade.detectMultiScale(grey, 1.1, 5)\n",
    "    \n",
    "    #gambar kotak di wajah\n",
    "    for (x, y, w, h) in wajah:\n",
    "        roi_grey = grey[y:y+h, x:x+w]\n",
    "        roi_color = frame[y:y+h, x:x+w]\n",
    "        \n",
    "        #logic \n",
    "        if mask_on:\n",
    "            cv2.rectangle(frame, (x,y), (x+w, y+h), (0, 255, 0), 3)\n",
    "            cv2.putText(frame,'Mask On',(x,y), cv2.FONT_HERSHEY_SIMPLEX, 2,(0,255,0),5)\n",
    "        else:\n",
    "            cv2.rectangle(frame, (x,y), (x+w, y+h), (0, 0, 255), 3)\n",
    "            cv2.putText(frame,'Mask Off',(x,y), cv2.FONT_HERSHEY_SIMPLEX, 2,(0,0,255),5)\n",
    "    \n",
    "    \n",
    "    hidung = noseCascade.detectMultiScale(roi_grey, 1.18, 35,)\n",
    "    for (sx, sy, sw, sh) in hidung:\n",
    "        cv2.rectangle(roi_color, (sh, sy), (sx+sw, sy+sh), (255, 0, 0),2)\n",
    "        cv2.putText(frame,'hidung',(x + sx,y + sy), 1, 1, (0, 255, 0),1)  \n",
    "        \n",
    "    \n",
    "    #logic jika hidung terdeteksi maka tidak mengunakan masker\n",
    "    if len(hidung)>0:\n",
    "        mask_on = False\n",
    "    else:\n",
    "        mask_on = True\n",
    "        \n",
    "    \n",
    "    cv2.putText(frame, 'Jumlah Wajah : ' + str(len(wajah)),(30, 30), cv2.FONT_HERSHEY_SIMPLEX, 1,(0,255,0),2)\n",
    "    cv2.imshow('Video', frame)\n",
    "    \n",
    "    if cv2.waitKey(1) & 0xFF == ord('q'):\n",
    "        break\n",
    "        \n",
    "video_capture.release()\n",
    "cv2.destroyAllWindows()\n",
    "        "
   ]
  },
  {
   "cell_type": "code",
   "execution_count": null,
   "metadata": {},
   "outputs": [],
   "source": []
  }
 ],
 "metadata": {
  "kernelspec": {
   "display_name": "Python 3",
   "language": "python",
   "name": "python3"
  },
  "language_info": {
   "codemirror_mode": {
    "name": "ipython",
    "version": 3
   },
   "file_extension": ".py",
   "mimetype": "text/x-python",
   "name": "python",
   "nbconvert_exporter": "python",
   "pygments_lexer": "ipython3",
   "version": "3.6.4"
  }
 },
 "nbformat": 4,
 "nbformat_minor": 2
}
